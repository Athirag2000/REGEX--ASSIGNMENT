{
 "cells": [
  {
   "cell_type": "code",
   "execution_count": 3,
   "id": "0b637f9b",
   "metadata": {},
   "outputs": [],
   "source": [
    "#REGULAREXPRESSION"
   ]
  },
  {
   "cell_type": "code",
   "execution_count": 4,
   "id": "5d120eed",
   "metadata": {},
   "outputs": [],
   "source": [
    "text='({\"orders\":[{\"id\":1},{\"id\":2},{\"id\":3},{\"id\":4},{\"id\":5},{\"id\":6},{\"id\":7},{\"id\":8},{\"id\":9},{\"id\":10},{\"id\":11},{\"id\":648},{\"id\":649},{\"id\":650},{\"id\":651},{\"id\":652},{\"id\":653}],\"errors\":[{\"code\":3,\"message\":\"[PHP Warning #2] count(): Parameter must be an array or an object that implements Countable (153)\"}]})'\n"
   ]
  },
  {
   "cell_type": "code",
   "execution_count": 5,
   "id": "eec97a5b",
   "metadata": {},
   "outputs": [
    {
     "name": "stdout",
     "output_type": "stream",
     "text": [
      "['1', '2', '3', '4', '5', '6', '7', '8', '9', '10', '11', '648', '649', '650', '651', '652', '653', '3']\n"
     ]
    }
   ],
   "source": [
    "import re\n",
    "lst=re.findall(\":[0-9]+\",text)\n",
    "print([i.strip(':') for i in lst])\n"
   ]
  },
  {
   "cell_type": "code",
   "execution_count": null,
   "id": "9ae56cf8",
   "metadata": {},
   "outputs": [],
   "source": []
  }
 ],
 "metadata": {
  "kernelspec": {
   "display_name": "Python 3 (ipykernel)",
   "language": "python",
   "name": "python3"
  },
  "language_info": {
   "codemirror_mode": {
    "name": "ipython",
    "version": 3
   },
   "file_extension": ".py",
   "mimetype": "text/x-python",
   "name": "python",
   "nbconvert_exporter": "python",
   "pygments_lexer": "ipython3",
   "version": "3.9.7"
  }
 },
 "nbformat": 4,
 "nbformat_minor": 5
}
